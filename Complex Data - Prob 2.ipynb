{
 "cells": [
  {
   "cell_type": "markdown",
   "id": "78cfb83d",
   "metadata": {},
   "source": [
    "# BMI 6018 - Complex Data Types Problem 2\n",
    "\n",
    "### Jackie Bearnson u0763123\n",
    "\n",
    "---------"
   ]
  },
  {
   "cell_type": "code",
   "execution_count": 1,
   "id": "022fbf11",
   "metadata": {},
   "outputs": [],
   "source": [
    "two_patient_dictionary_kinoko = {\n",
    "  \"name\" : \"Kinoko\",\n",
    "  \"year\" : 2021\n",
    "}\n",
    "two_patient_dictionary_dango = {\n",
    "  \"name\" : \"Dango\",\n",
    "  \"year\" : 2019\n",
    "}\n",
    "two_patient_dictionary_mochi  = {\n",
    "  \"name\" : \"Mochi\",\n",
    "  \"year\" : 2020\n",
    "}\n"
   ]
  },
  {
   "cell_type": "markdown",
   "id": "44e20622",
   "metadata": {},
   "source": [
    "### 2.a Combine the three sample dictionaries (given below) into a nested dictionary (nested in programming means joined), named two_a, ensure the key names are the same as the dictionary names."
   ]
  },
  {
   "cell_type": "code",
   "execution_count": 2,
   "id": "77529f80",
   "metadata": {},
   "outputs": [],
   "source": [
    "two_a = {'two_patient_dictionary_kinoko': two_patient_dictionary_kinoko,\n",
    "        'two_patient_dictionary_dango': two_patient_dictionary_dango,\n",
    "        'two_patient_dictionary_mochi': two_patient_dictionary_mochi}"
   ]
  },
  {
   "cell_type": "code",
   "execution_count": 3,
   "id": "f6fa7033",
   "metadata": {},
   "outputs": [
    {
     "data": {
      "text/plain": [
       "{'two_patient_dictionary_kinoko': {'name': 'Kinoko', 'year': 2021},\n",
       " 'two_patient_dictionary_dango': {'name': 'Dango', 'year': 2019},\n",
       " 'two_patient_dictionary_mochi': {'name': 'Mochi', 'year': 2020}}"
      ]
     },
     "execution_count": 3,
     "metadata": {},
     "output_type": "execute_result"
    }
   ],
   "source": [
    "two_a"
   ]
  },
  {
   "cell_type": "markdown",
   "id": "07af8362",
   "metadata": {},
   "source": [
    "### 2.b Using keys, retrieve the Dango's name from 2.a"
   ]
  },
  {
   "cell_type": "code",
   "execution_count": 4,
   "id": "00277e6c",
   "metadata": {},
   "outputs": [
    {
     "data": {
      "text/plain": [
       "'Dango'"
      ]
     },
     "execution_count": 4,
     "metadata": {},
     "output_type": "execute_result"
    }
   ],
   "source": [
    "two_a['two_patient_dictionary_dango'][\"name\"]"
   ]
  },
  {
   "cell_type": "markdown",
   "id": "fed681f8",
   "metadata": {},
   "source": [
    "### 2.c Using keys, update the value of Mochi's year to 2018. This should not be a variable and should simply update 2.a."
   ]
  },
  {
   "cell_type": "code",
   "execution_count": 5,
   "id": "9e408844",
   "metadata": {},
   "outputs": [],
   "source": [
    "two_a['two_patient_dictionary_mochi'][\"year\"] = 2018"
   ]
  },
  {
   "cell_type": "markdown",
   "id": "0173472c",
   "metadata": {},
   "source": [
    "### 2.d Manually create a dictionary that has a single level and contains each patient as the key and the year as the value. Set Mochi's year to 2019.'"
   ]
  },
  {
   "cell_type": "code",
   "execution_count": 6,
   "id": "9a1ca870",
   "metadata": {},
   "outputs": [],
   "source": [
    "two_d = {\n",
    "    'Kinoko': 2021,\n",
    "    'Dango': 2019,\n",
    "    'Mochi': 2019\n",
    "}"
   ]
  },
  {
   "cell_type": "code",
   "execution_count": 7,
   "id": "86edf394",
   "metadata": {},
   "outputs": [
    {
     "data": {
      "text/plain": [
       "{'Kinoko': 2021, 'Dango': 2019, 'Mochi': 2019}"
      ]
     },
     "execution_count": 7,
     "metadata": {},
     "output_type": "execute_result"
    }
   ],
   "source": [
    "two_d"
   ]
  },
  {
   "cell_type": "markdown",
   "id": "f286029a",
   "metadata": {},
   "source": [
    "### 2.e Coerce the keys of 2.d into a list"
   ]
  },
  {
   "cell_type": "code",
   "execution_count": 8,
   "id": "1b37a949",
   "metadata": {},
   "outputs": [],
   "source": [
    "two_e = list(two_d)"
   ]
  },
  {
   "cell_type": "code",
   "execution_count": 9,
   "id": "8591fc54",
   "metadata": {},
   "outputs": [
    {
     "data": {
      "text/plain": [
       "['Kinoko', 'Dango', 'Mochi']"
      ]
     },
     "execution_count": 9,
     "metadata": {},
     "output_type": "execute_result"
    }
   ],
   "source": [
    "two_e"
   ]
  },
  {
   "cell_type": "markdown",
   "id": "d4e38b3e",
   "metadata": {},
   "source": [
    "### 2.f Coerce the values of 2.d into a list"
   ]
  },
  {
   "cell_type": "code",
   "execution_count": 10,
   "id": "d4e2ca29",
   "metadata": {},
   "outputs": [],
   "source": [
    "two_f = list(two_d.values())"
   ]
  },
  {
   "cell_type": "code",
   "execution_count": 11,
   "id": "916b37af",
   "metadata": {},
   "outputs": [
    {
     "data": {
      "text/plain": [
       "[2021, 2019, 2019]"
      ]
     },
     "execution_count": 11,
     "metadata": {},
     "output_type": "execute_result"
    }
   ],
   "source": [
    "two_f"
   ]
  },
  {
   "cell_type": "markdown",
   "id": "9488de18",
   "metadata": {},
   "source": [
    "### 2.g Use the zip function to combine 2.e and 2.f into a dictionary again"
   ]
  },
  {
   "cell_type": "code",
   "execution_count": 12,
   "id": "9bb886c0",
   "metadata": {},
   "outputs": [],
   "source": [
    "two_g = zip(two_e, two_f)"
   ]
  }
 ],
 "metadata": {
  "kernelspec": {
   "display_name": "Python 3 (ipykernel)",
   "language": "python",
   "name": "python3"
  },
  "language_info": {
   "codemirror_mode": {
    "name": "ipython",
    "version": 3
   },
   "file_extension": ".py",
   "mimetype": "text/x-python",
   "name": "python",
   "nbconvert_exporter": "python",
   "pygments_lexer": "ipython3",
   "version": "3.9.12"
  }
 },
 "nbformat": 4,
 "nbformat_minor": 5
}
