{
 "cells": [
  {
   "cell_type": "markdown",
   "id": "cb16b07a",
   "metadata": {},
   "source": [
    "# BMI 6018 - Complex Data Types Problem 1"
   ]
  },
  {
   "cell_type": "markdown",
   "id": "63541e52",
   "metadata": {},
   "source": [
    "### Jackie Bearnson u0763123"
   ]
  },
  {
   "cell_type": "markdown",
   "id": "7b5f71fe",
   "metadata": {},
   "source": [
    "---------"
   ]
  },
  {
   "cell_type": "markdown",
   "id": "e925634b",
   "metadata": {},
   "source": [
    "## Problem 1: Lists, Sets and Coersion"
   ]
  },
  {
   "cell_type": "markdown",
   "id": "b062e07b",
   "metadata": {},
   "source": [
    "### 1.a - Create a list of integers no fewer than 10 items from 0 to 9."
   ]
  },
  {
   "cell_type": "code",
   "execution_count": 1,
   "id": "2c08497f",
   "metadata": {},
   "outputs": [],
   "source": [
    "A1 = [0, 1, 2, 3, 4, 5, 6, 7, 8, 9]"
   ]
  },
  {
   "cell_type": "markdown",
   "id": "5d69c312",
   "metadata": {},
   "source": [
    "### 1.b Add 3 to the 5th indexed element"
   ]
  },
  {
   "cell_type": "code",
   "execution_count": 2,
   "id": "d4987179",
   "metadata": {},
   "outputs": [],
   "source": [
    "A1[5] += 3"
   ]
  },
  {
   "cell_type": "code",
   "execution_count": 3,
   "id": "6b1b29ef",
   "metadata": {},
   "outputs": [
    {
     "data": {
      "text/plain": [
       "[0, 1, 2, 3, 4, 8, 6, 7, 8, 9]"
      ]
     },
     "execution_count": 3,
     "metadata": {},
     "output_type": "execute_result"
    }
   ],
   "source": [
    "A1"
   ]
  },
  {
   "cell_type": "markdown",
   "id": "77b1ccca",
   "metadata": {},
   "source": [
    "### 1.c Coerce all elements in the list to floats using list comprehension"
   ]
  },
  {
   "cell_type": "code",
   "execution_count": 4,
   "id": "462bc800",
   "metadata": {},
   "outputs": [],
   "source": [
    "C1 = [float(x) for x in A1 if type(x) == int]"
   ]
  },
  {
   "cell_type": "code",
   "execution_count": 5,
   "id": "d1996e5d",
   "metadata": {},
   "outputs": [
    {
     "data": {
      "text/plain": [
       "[0.0, 1.0, 2.0, 3.0, 4.0, 8.0, 6.0, 7.0, 8.0, 9.0]"
      ]
     },
     "execution_count": 5,
     "metadata": {},
     "output_type": "execute_result"
    }
   ],
   "source": [
    "C1"
   ]
  },
  {
   "cell_type": "markdown",
   "id": "6b052182",
   "metadata": {},
   "source": [
    "### 1.d Coerce the list to a set"
   ]
  },
  {
   "cell_type": "code",
   "execution_count": 6,
   "id": "63af01c7",
   "metadata": {},
   "outputs": [],
   "source": [
    "D1 = set(C1)"
   ]
  },
  {
   "cell_type": "code",
   "execution_count": 7,
   "id": "fb3e014f",
   "metadata": {},
   "outputs": [
    {
     "data": {
      "text/plain": [
       "{0.0, 1.0, 2.0, 3.0, 4.0, 6.0, 7.0, 8.0, 9.0}"
      ]
     },
     "execution_count": 7,
     "metadata": {},
     "output_type": "execute_result"
    }
   ],
   "source": [
    "D1"
   ]
  },
  {
   "cell_type": "markdown",
   "id": "af2c7aab",
   "metadata": {},
   "source": [
    "### 1.e Using a method, append int 10 to the set"
   ]
  },
  {
   "cell_type": "code",
   "execution_count": 8,
   "id": "e40f9594",
   "metadata": {},
   "outputs": [],
   "source": [
    "D1.add(int(10))"
   ]
  },
  {
   "cell_type": "code",
   "execution_count": 9,
   "id": "627d6cbc",
   "metadata": {},
   "outputs": [
    {
     "data": {
      "text/plain": [
       "{0.0, 1.0, 2.0, 3.0, 4.0, 6.0, 7.0, 8.0, 9.0, 10}"
      ]
     },
     "execution_count": 9,
     "metadata": {},
     "output_type": "execute_result"
    }
   ],
   "source": [
    "D1"
   ]
  },
  {
   "cell_type": "markdown",
   "id": "82052707",
   "metadata": {},
   "source": [
    "### 1.f Using a method, pop an item from the set"
   ]
  },
  {
   "cell_type": "code",
   "execution_count": 10,
   "id": "22bd813e",
   "metadata": {},
   "outputs": [
    {
     "data": {
      "text/plain": [
       "0.0"
      ]
     },
     "execution_count": 10,
     "metadata": {},
     "output_type": "execute_result"
    }
   ],
   "source": [
    "D1.pop()"
   ]
  },
  {
   "cell_type": "code",
   "execution_count": 11,
   "id": "9678c370",
   "metadata": {},
   "outputs": [
    {
     "data": {
      "text/plain": [
       "{1.0, 2.0, 3.0, 4.0, 6.0, 7.0, 8.0, 9.0, 10}"
      ]
     },
     "execution_count": 11,
     "metadata": {},
     "output_type": "execute_result"
    }
   ],
   "source": [
    "D1"
   ]
  },
  {
   "cell_type": "markdown",
   "id": "3d63aaed",
   "metadata": {},
   "source": [
    "### 1.g Using a length counting function, count the number of items in the set"
   ]
  },
  {
   "cell_type": "code",
   "execution_count": 12,
   "id": "0a721ea1",
   "metadata": {},
   "outputs": [
    {
     "data": {
      "text/plain": [
       "9"
      ]
     },
     "execution_count": 12,
     "metadata": {},
     "output_type": "execute_result"
    }
   ],
   "source": [
    "len(D1)"
   ]
  },
  {
   "cell_type": "markdown",
   "id": "c1594369",
   "metadata": {},
   "source": [
    "### 1.h Check if the number of items in the set is the same as the number of items in the list"
   ]
  },
  {
   "cell_type": "code",
   "execution_count": 13,
   "id": "bd15b749",
   "metadata": {},
   "outputs": [
    {
     "data": {
      "text/plain": [
       "10"
      ]
     },
     "execution_count": 13,
     "metadata": {},
     "output_type": "execute_result"
    }
   ],
   "source": [
    "len(C1)"
   ]
  },
  {
   "cell_type": "code",
   "execution_count": 14,
   "id": "9af43d63",
   "metadata": {},
   "outputs": [],
   "source": [
    "# They do not have the same number of items"
   ]
  },
  {
   "cell_type": "markdown",
   "id": "b0c01473",
   "metadata": {},
   "source": [
    "### 1.i - Coerce the set to a list and use the \"+\" operator combine the list to the list from 1.a"
   ]
  },
  {
   "cell_type": "code",
   "execution_count": 15,
   "id": "f5c9beb6",
   "metadata": {},
   "outputs": [],
   "source": [
    "I1 = list(D1) + A1"
   ]
  },
  {
   "cell_type": "code",
   "execution_count": 16,
   "id": "f210944a",
   "metadata": {},
   "outputs": [
    {
     "data": {
      "text/plain": [
       "[1.0, 2.0, 3.0, 4.0, 6.0, 7.0, 8.0, 9.0, 10, 0, 1, 2, 3, 4, 8, 6, 7, 8, 9]"
      ]
     },
     "execution_count": 16,
     "metadata": {},
     "output_type": "execute_result"
    }
   ],
   "source": [
    "I1"
   ]
  },
  {
   "cell_type": "markdown",
   "id": "8915f052",
   "metadata": {},
   "source": [
    "### 1.j - Coerce 1.i to a set"
   ]
  },
  {
   "cell_type": "code",
   "execution_count": 17,
   "id": "d78d67ef",
   "metadata": {},
   "outputs": [],
   "source": [
    "J1 = set(I1)"
   ]
  },
  {
   "cell_type": "code",
   "execution_count": 18,
   "id": "95ee79ec",
   "metadata": {},
   "outputs": [
    {
     "data": {
      "text/plain": [
       "{0, 1.0, 2.0, 3.0, 4.0, 6.0, 7.0, 8.0, 9.0, 10}"
      ]
     },
     "execution_count": 18,
     "metadata": {},
     "output_type": "execute_result"
    }
   ],
   "source": [
    "J1"
   ]
  },
  {
   "cell_type": "markdown",
   "id": "c62422a8",
   "metadata": {},
   "source": [
    "### 1.k Count the number of elements in the 1.j"
   ]
  },
  {
   "cell_type": "code",
   "execution_count": 19,
   "id": "acd1e7c6",
   "metadata": {},
   "outputs": [
    {
     "data": {
      "text/plain": [
       "10"
      ]
     },
     "execution_count": 19,
     "metadata": {},
     "output_type": "execute_result"
    }
   ],
   "source": [
    "len(J1)"
   ]
  },
  {
   "cell_type": "code",
   "execution_count": null,
   "id": "94fa4921",
   "metadata": {},
   "outputs": [],
   "source": []
  }
 ],
 "metadata": {
  "kernelspec": {
   "display_name": "Python 3 (ipykernel)",
   "language": "python",
   "name": "python3"
  },
  "language_info": {
   "codemirror_mode": {
    "name": "ipython",
    "version": 3
   },
   "file_extension": ".py",
   "mimetype": "text/x-python",
   "name": "python",
   "nbconvert_exporter": "python",
   "pygments_lexer": "ipython3",
   "version": "3.9.12"
  }
 },
 "nbformat": 4,
 "nbformat_minor": 5
}
