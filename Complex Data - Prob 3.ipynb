{
 "cells": [
  {
   "cell_type": "markdown",
   "id": "cdf3e43e",
   "metadata": {},
   "source": [
    "# BMI 6018 - Complex Data Types Problem 3\n",
    "\n",
    "### Jackie Bearnson u0763123\n",
    "\n",
    "---------"
   ]
  },
  {
   "cell_type": "code",
   "execution_count": 1,
   "id": "395c9373",
   "metadata": {},
   "outputs": [],
   "source": [
    "three_setA = {1,2,3,4,5}\n",
    "three_setB = {2,3,4,5,6}\n",
    "three_setC = {3,5,7,9}\n",
    "three_setD = {2,4,6,8}\n",
    "three_setE = {1,2,3,4}"
   ]
  },
  {
   "cell_type": "markdown",
   "id": "b0401ee1",
   "metadata": {},
   "source": [
    "### 3.a Is set E a subset of set A"
   ]
  },
  {
   "cell_type": "code",
   "execution_count": 2,
   "id": "75099d17",
   "metadata": {},
   "outputs": [
    {
     "data": {
      "text/plain": [
       "True"
      ]
     },
     "execution_count": 2,
     "metadata": {},
     "output_type": "execute_result"
    }
   ],
   "source": [
    "three_setE.issubset(three_setA)"
   ]
  },
  {
   "cell_type": "markdown",
   "id": "69325cdb",
   "metadata": {},
   "source": [
    "### 3.b Is set E a strict subset of set A"
   ]
  },
  {
   "cell_type": "code",
   "execution_count": 3,
   "id": "f4690dd0",
   "metadata": {},
   "outputs": [
    {
     "data": {
      "text/plain": [
       "True"
      ]
     },
     "execution_count": 3,
     "metadata": {},
     "output_type": "execute_result"
    }
   ],
   "source": [
    "three_setE < three_setA"
   ]
  },
  {
   "cell_type": "code",
   "execution_count": 4,
   "id": "d6970071",
   "metadata": {},
   "outputs": [],
   "source": [
    "# It is a strict subset."
   ]
  },
  {
   "cell_type": "markdown",
   "id": "53f7a8a6",
   "metadata": {},
   "source": [
    "### 3.c Create a set that is the intersection of set A and set B"
   ]
  },
  {
   "cell_type": "code",
   "execution_count": 5,
   "id": "ed2227fa",
   "metadata": {},
   "outputs": [],
   "source": [
    "three_c = three_setA.intersection(three_setB)"
   ]
  },
  {
   "cell_type": "code",
   "execution_count": 6,
   "id": "c52f1525",
   "metadata": {},
   "outputs": [
    {
     "data": {
      "text/plain": [
       "{2, 3, 4, 5}"
      ]
     },
     "execution_count": 6,
     "metadata": {},
     "output_type": "execute_result"
    }
   ],
   "source": [
    "three_c"
   ]
  },
  {
   "cell_type": "markdown",
   "id": "14a37b91",
   "metadata": {},
   "source": [
    "### 3.d Create a set that is the union of sets C, D and E"
   ]
  },
  {
   "cell_type": "code",
   "execution_count": 7,
   "id": "f8f8b556",
   "metadata": {},
   "outputs": [],
   "source": [
    "three_d = three_setC.union(three_setD, three_setE)"
   ]
  },
  {
   "cell_type": "code",
   "execution_count": 8,
   "id": "40c5f31b",
   "metadata": {},
   "outputs": [
    {
     "data": {
      "text/plain": [
       "{1, 2, 3, 4, 5, 6, 7, 8, 9}"
      ]
     },
     "execution_count": 8,
     "metadata": {},
     "output_type": "execute_result"
    }
   ],
   "source": [
    "three_d"
   ]
  },
  {
   "cell_type": "markdown",
   "id": "84f96031",
   "metadata": {},
   "source": [
    "### 3.e add 9 to the set"
   ]
  },
  {
   "cell_type": "code",
   "execution_count": 9,
   "id": "91b44484",
   "metadata": {},
   "outputs": [],
   "source": [
    "three_d.add(9)"
   ]
  },
  {
   "cell_type": "code",
   "execution_count": 10,
   "id": "b9426a2f",
   "metadata": {},
   "outputs": [
    {
     "data": {
      "text/plain": [
       "{1, 2, 3, 4, 5, 6, 7, 8, 9}"
      ]
     },
     "execution_count": 10,
     "metadata": {},
     "output_type": "execute_result"
    }
   ],
   "source": [
    "three_d"
   ]
  },
  {
   "cell_type": "code",
   "execution_count": 11,
   "id": "80573d37",
   "metadata": {},
   "outputs": [],
   "source": [
    "one_a = [0, 1, 2, 3, 4, 5, 6, 7, 8, 9]"
   ]
  },
  {
   "cell_type": "code",
   "execution_count": 12,
   "id": "55844e9c",
   "metadata": {},
   "outputs": [
    {
     "data": {
      "text/plain": [
       "False"
      ]
     },
     "execution_count": 12,
     "metadata": {},
     "output_type": "execute_result"
    }
   ],
   "source": [
    "three_d == one_a"
   ]
  },
  {
   "cell_type": "markdown",
   "id": "9e250b06",
   "metadata": {},
   "source": [
    "### 3.g Explain why they are not the same. What would you need to change if you wanted this to be True?"
   ]
  },
  {
   "cell_type": "code",
   "execution_count": 13,
   "id": "2dde7bbc",
   "metadata": {},
   "outputs": [],
   "source": [
    "# They are not the same because 1.a is a list and has the element zero, while 3.e is a set that\n",
    "# doesn't have that element."
   ]
  },
  {
   "cell_type": "code",
   "execution_count": 14,
   "id": "52cad54f",
   "metadata": {},
   "outputs": [],
   "source": [
    "# To make them the same you would add the element zero and convert it from a set to a list."
   ]
  },
  {
   "cell_type": "code",
   "execution_count": null,
   "id": "52ada2e6",
   "metadata": {},
   "outputs": [],
   "source": []
  }
 ],
 "metadata": {
  "kernelspec": {
   "display_name": "Python 3 (ipykernel)",
   "language": "python",
   "name": "python3"
  },
  "language_info": {
   "codemirror_mode": {
    "name": "ipython",
    "version": 3
   },
   "file_extension": ".py",
   "mimetype": "text/x-python",
   "name": "python",
   "nbconvert_exporter": "python",
   "pygments_lexer": "ipython3",
   "version": "3.9.12"
  }
 },
 "nbformat": 4,
 "nbformat_minor": 5
}
