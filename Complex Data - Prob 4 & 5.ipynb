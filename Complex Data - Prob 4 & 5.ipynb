{
 "cells": [
  {
   "cell_type": "markdown",
   "id": "7571c0da",
   "metadata": {},
   "source": [
    "# BMI 6018 - Complex Data Types Problem 4 & 5\n",
    "\n",
    "### Jackie Bearnson u0763123\n",
    "\n",
    "---------"
   ]
  },
  {
   "cell_type": "markdown",
   "id": "a655b577",
   "metadata": {},
   "source": [
    "# Problem 4"
   ]
  },
  {
   "cell_type": "markdown",
   "id": "0f87ad4f",
   "metadata": {},
   "source": [
    "### 4.a - Create a variable of type int with the value of 8"
   ]
  },
  {
   "cell_type": "code",
   "execution_count": 1,
   "id": "73a09267",
   "metadata": {},
   "outputs": [],
   "source": [
    "A = 8"
   ]
  },
  {
   "cell_type": "markdown",
   "id": "ecd0f5a0",
   "metadata": {},
   "source": [
    "### 4.b Create an empty list"
   ]
  },
  {
   "cell_type": "code",
   "execution_count": 2,
   "id": "36fd52ef",
   "metadata": {},
   "outputs": [],
   "source": [
    "B = []"
   ]
  },
  {
   "cell_type": "markdown",
   "id": "09ee90f2",
   "metadata": {},
   "source": [
    "### 4c - Using type(), add the type of 4.a to this list"
   ]
  },
  {
   "cell_type": "code",
   "execution_count": 3,
   "id": "ab81286f",
   "metadata": {},
   "outputs": [],
   "source": [
    "B.append(type(A))"
   ]
  },
  {
   "cell_type": "code",
   "execution_count": 4,
   "id": "1294856e",
   "metadata": {},
   "outputs": [
    {
     "data": {
      "text/plain": [
       "[int]"
      ]
     },
     "execution_count": 4,
     "metadata": {},
     "output_type": "execute_result"
    }
   ],
   "source": [
    "B"
   ]
  },
  {
   "cell_type": "markdown",
   "id": "4ef34cbe",
   "metadata": {},
   "source": [
    "### 4d - Add 0.39 to 4.c"
   ]
  },
  {
   "cell_type": "code",
   "execution_count": 5,
   "id": "677d2e91",
   "metadata": {},
   "outputs": [],
   "source": [
    "D = 0.39"
   ]
  },
  {
   "cell_type": "code",
   "execution_count": 6,
   "id": "d01acead",
   "metadata": {},
   "outputs": [],
   "source": [
    "B.append(D)"
   ]
  },
  {
   "cell_type": "code",
   "execution_count": 7,
   "id": "e90c70cb",
   "metadata": {},
   "outputs": [
    {
     "data": {
      "text/plain": [
       "[int, 0.39]"
      ]
     },
     "execution_count": 7,
     "metadata": {},
     "output_type": "execute_result"
    }
   ],
   "source": [
    "B"
   ]
  },
  {
   "cell_type": "markdown",
   "id": "996ef7d8",
   "metadata": {},
   "source": [
    "### 4.e append the type of 0.39 to the list"
   ]
  },
  {
   "cell_type": "code",
   "execution_count": 8,
   "id": "71292d82",
   "metadata": {},
   "outputs": [],
   "source": [
    "B.append(type(D))"
   ]
  },
  {
   "cell_type": "code",
   "execution_count": 9,
   "id": "56fc6bfd",
   "metadata": {},
   "outputs": [
    {
     "data": {
      "text/plain": [
       "[int, 0.39, float]"
      ]
     },
     "execution_count": 9,
     "metadata": {},
     "output_type": "execute_result"
    }
   ],
   "source": [
    "B"
   ]
  },
  {
   "cell_type": "markdown",
   "id": "fc402b06",
   "metadata": {},
   "source": [
    "### 4.f exponentiate to the -10, ie: 4.d^-10,(hint: there might be an artihmetic operator to do so) round it to no decimal places, and append to list."
   ]
  },
  {
   "cell_type": "code",
   "execution_count": 10,
   "id": "3588be7c",
   "metadata": {},
   "outputs": [],
   "source": [
    "F = round(D**(-10))"
   ]
  },
  {
   "cell_type": "code",
   "execution_count": 11,
   "id": "7972d363",
   "metadata": {},
   "outputs": [],
   "source": [
    "B.append(F)"
   ]
  },
  {
   "cell_type": "code",
   "execution_count": 12,
   "id": "36cfec50",
   "metadata": {},
   "outputs": [
    {
     "data": {
      "text/plain": [
       "[int, 0.39, float, 12284]"
      ]
     },
     "execution_count": 12,
     "metadata": {},
     "output_type": "execute_result"
    }
   ],
   "source": [
    "B"
   ]
  },
  {
   "cell_type": "markdown",
   "id": "59fc57d8",
   "metadata": {},
   "source": [
    "### 4.g append the type to the list"
   ]
  },
  {
   "cell_type": "code",
   "execution_count": 13,
   "id": "92994036",
   "metadata": {},
   "outputs": [],
   "source": [
    "B.append(type(F))"
   ]
  },
  {
   "cell_type": "code",
   "execution_count": 14,
   "id": "fbfc09e7",
   "metadata": {},
   "outputs": [
    {
     "data": {
      "text/plain": [
       "[int, 0.39, float, 12284, int]"
      ]
     },
     "execution_count": 14,
     "metadata": {},
     "output_type": "execute_result"
    }
   ],
   "source": [
    "B"
   ]
  },
  {
   "cell_type": "markdown",
   "id": "f729dfff",
   "metadata": {},
   "source": [
    "-----------\n",
    "# Problem 5"
   ]
  },
  {
   "cell_type": "markdown",
   "id": "7bde886c",
   "metadata": {},
   "source": [
    "### 5.a Manually create a dictionary where the values are items in the list from where we left in problem 4, and the keys should be their index in the list. Print the dictionary."
   ]
  },
  {
   "cell_type": "code",
   "execution_count": 15,
   "id": "b7180bb5",
   "metadata": {},
   "outputs": [],
   "source": [
    "five_a = {0: B[0],\n",
    "         1: B[1],\n",
    "         2: B[2],\n",
    "         3: B[3],\n",
    "         4: B[4]}"
   ]
  },
  {
   "cell_type": "code",
   "execution_count": 16,
   "id": "459339b3",
   "metadata": {},
   "outputs": [
    {
     "name": "stdout",
     "output_type": "stream",
     "text": [
      "{0: <class 'int'>, 1: 0.39, 2: <class 'float'>, 3: 12284, 4: <class 'int'>}\n"
     ]
    }
   ],
   "source": [
    "print(five_a)"
   ]
  },
  {
   "cell_type": "markdown",
   "id": "df4a5f32",
   "metadata": {},
   "source": [
    "### 5.b Add 300 and coerce it into a string"
   ]
  },
  {
   "cell_type": "code",
   "execution_count": 17,
   "id": "76942bc0",
   "metadata": {},
   "outputs": [],
   "source": [
    "x = str(300)"
   ]
  },
  {
   "cell_type": "code",
   "execution_count": 18,
   "id": "6b88250f",
   "metadata": {},
   "outputs": [],
   "source": [
    "B.append(x)"
   ]
  },
  {
   "cell_type": "code",
   "execution_count": 19,
   "id": "669b9729",
   "metadata": {},
   "outputs": [
    {
     "data": {
      "text/plain": [
       "[int, 0.39, float, 12284, int, '300']"
      ]
     },
     "execution_count": 19,
     "metadata": {},
     "output_type": "execute_result"
    }
   ],
   "source": [
    "B"
   ]
  },
  {
   "cell_type": "markdown",
   "id": "af99e9d2",
   "metadata": {},
   "source": [
    "### 5.c append the type to the list"
   ]
  },
  {
   "cell_type": "code",
   "execution_count": 20,
   "id": "3dd0e37e",
   "metadata": {},
   "outputs": [],
   "source": [
    "B.append(type(x))"
   ]
  },
  {
   "cell_type": "code",
   "execution_count": 21,
   "id": "086b3903",
   "metadata": {},
   "outputs": [
    {
     "data": {
      "text/plain": [
       "[int, 0.39, float, 12284, int, '300', str]"
      ]
     },
     "execution_count": 21,
     "metadata": {},
     "output_type": "execute_result"
    }
   ],
   "source": [
    "B"
   ]
  },
  {
   "cell_type": "markdown",
   "id": "4cef7808",
   "metadata": {},
   "source": [
    "### 5.d slice the string up to the 2nd element"
   ]
  },
  {
   "cell_type": "code",
   "execution_count": 22,
   "id": "195d3403",
   "metadata": {},
   "outputs": [],
   "source": [
    "x = x[0:2]"
   ]
  },
  {
   "cell_type": "code",
   "execution_count": 23,
   "id": "5c8b23f6",
   "metadata": {},
   "outputs": [
    {
     "data": {
      "text/plain": [
       "'30'"
      ]
     },
     "execution_count": 23,
     "metadata": {},
     "output_type": "execute_result"
    }
   ],
   "source": [
    "x"
   ]
  },
  {
   "cell_type": "markdown",
   "id": "d86da673",
   "metadata": {},
   "source": [
    "### 5.e append the type to the list"
   ]
  },
  {
   "cell_type": "code",
   "execution_count": 24,
   "id": "7f981e68",
   "metadata": {},
   "outputs": [],
   "source": [
    "B.append(type(x))"
   ]
  },
  {
   "cell_type": "code",
   "execution_count": 25,
   "id": "de01d3bf",
   "metadata": {},
   "outputs": [
    {
     "data": {
      "text/plain": [
       "[int, 0.39, float, 12284, int, '300', str, str]"
      ]
     },
     "execution_count": 25,
     "metadata": {},
     "output_type": "execute_result"
    }
   ],
   "source": [
    "B"
   ]
  },
  {
   "cell_type": "markdown",
   "id": "d38f8902",
   "metadata": {},
   "source": [
    "### 5.f use list comprehension to convert this into a new list of integers"
   ]
  },
  {
   "cell_type": "code",
   "execution_count": 26,
   "id": "eb37d653",
   "metadata": {},
   "outputs": [
    {
     "data": {
      "text/plain": [
       "[3, 0]"
      ]
     },
     "execution_count": 26,
     "metadata": {},
     "output_type": "execute_result"
    }
   ],
   "source": [
    "five_f = [int(y) for y in x]\n",
    "five_f"
   ]
  },
  {
   "cell_type": "markdown",
   "id": "14edb851",
   "metadata": {},
   "source": [
    "### 5.g append the type to the list"
   ]
  },
  {
   "cell_type": "code",
   "execution_count": 27,
   "id": "26d0d7a3",
   "metadata": {},
   "outputs": [
    {
     "data": {
      "text/plain": [
       "[int, 0.39, float, 12284, int, '300', str, str, list]"
      ]
     },
     "execution_count": 27,
     "metadata": {},
     "output_type": "execute_result"
    }
   ],
   "source": [
    "B.append(type(five_f))\n",
    "B"
   ]
  },
  {
   "cell_type": "markdown",
   "id": "5eaf5df5",
   "metadata": {},
   "source": [
    "### 5.h append the type of three_setA to the list"
   ]
  },
  {
   "cell_type": "code",
   "execution_count": 28,
   "id": "9d471624",
   "metadata": {},
   "outputs": [],
   "source": [
    "three_setA = {1,2,3,4,5}"
   ]
  },
  {
   "cell_type": "code",
   "execution_count": 29,
   "id": "251f39e5",
   "metadata": {},
   "outputs": [
    {
     "data": {
      "text/plain": [
       "[int, 0.39, float, 12284, int, '300', str, str, list, set]"
      ]
     },
     "execution_count": 29,
     "metadata": {},
     "output_type": "execute_result"
    }
   ],
   "source": [
    "B.append(type(three_setA))\n",
    "B"
   ]
  },
  {
   "cell_type": "code",
   "execution_count": null,
   "id": "8c410f14",
   "metadata": {},
   "outputs": [],
   "source": []
  }
 ],
 "metadata": {
  "kernelspec": {
   "display_name": "Python 3 (ipykernel)",
   "language": "python",
   "name": "python3"
  },
  "language_info": {
   "codemirror_mode": {
    "name": "ipython",
    "version": 3
   },
   "file_extension": ".py",
   "mimetype": "text/x-python",
   "name": "python",
   "nbconvert_exporter": "python",
   "pygments_lexer": "ipython3",
   "version": "3.9.12"
  }
 },
 "nbformat": 4,
 "nbformat_minor": 5
}
